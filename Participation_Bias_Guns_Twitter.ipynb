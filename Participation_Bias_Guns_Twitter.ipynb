{
 "cells": [
  {
   "cell_type": "markdown",
   "metadata": {},
   "source": [
    "# Supporting code to generate results included in the `Quantifying participation biases on social media` paper.\n",
    "\n",
    "The following code generates Figure 8 in the paper."
   ]
  },
  {
   "cell_type": "code",
   "execution_count": 1,
   "metadata": {},
   "outputs": [],
   "source": [
    "%run Utilities.ipynb"
   ]
  },
  {
   "cell_type": "code",
   "execution_count": 28,
   "metadata": {},
   "outputs": [],
   "source": [
    "import pandas as pd\n",
    "import numpy as np\n",
    "from sklearn.linear_model import LinearRegression\n",
    "from scipy.stats import dirichlet,beta,bernoulli,multinomial,uniform,norm,invgamma\n",
    "import matplotlib.pyplot as plt\n",
    "from matplotlib.colors import ListedColormap\n",
    "import matplotlib.colors as mcolors\n",
    "import matplotlib as mpl\n",
    "import matplotlib.ticker as mtick\n",
    "import seaborn as sns\n",
    "\n",
    "sns.set(color_codes=True)\n",
    "sns_c = sns.color_palette(palette='deep')\n",
    "sns.set_style('whitegrid')\n",
    "sns.set_context('paper',font_scale=3)"
   ]
  },
  {
   "cell_type": "code",
   "execution_count": 8,
   "metadata": {},
   "outputs": [],
   "source": [
    "tw_index = ['pg61','pg62','pg63','pg64','pg65','pg66','sept_2019','feb_2020']"
   ]
  },
  {
   "cell_type": "code",
   "execution_count": 2,
   "metadata": {},
   "outputs": [],
   "source": [
    "tw_alphacols = ['dem-men','dem-women','rep-men','rep-women']"
   ]
  },
  {
   "cell_type": "code",
   "execution_count": 12,
   "metadata": {},
   "outputs": [],
   "source": [
    "# response rates from surveys\n",
    "tw_df = pd.DataFrame(np.array([\n",
    "    [0.92,0.94,0.49,0.65],\n",
    "    [0.87,0.92,0.50,0.67],\n",
    "    [0.87,0.84,0.32,0.49],\n",
    "    [0.82,0.89,0.24,0.52],\n",
    "    [0.67,0.71,0.17,0.29],\n",
    "    [0.82,0.87,0.34,0.42],\n",
    "    [0.86,0.92,0.20,0.26],\n",
    "    [0.83,0.89,0.28,0.25]\n",
    "]),index=tw_index,columns=tw_alphacols)"
   ]
  },
  {
   "cell_type": "code",
   "execution_count": 13,
   "metadata": {},
   "outputs": [],
   "source": [
    "# estimates for target (y)\n",
    "tw_df['y'] = np.array([0.6990,0.5742,0.5468,0.5699,0.6532,0.6461,0.4930,0.4274])\n",
    "tw_df['y_var'] = np.array([0.0458,0.0800,0.0859,0.0611,0.1106,0.0267,0.0360,0.0736]) "
   ]
  },
  {
   "cell_type": "code",
   "execution_count": 14,
   "metadata": {},
   "outputs": [
    {
     "data": {
      "text/html": [
       "<div>\n",
       "<style scoped>\n",
       "    .dataframe tbody tr th:only-of-type {\n",
       "        vertical-align: middle;\n",
       "    }\n",
       "\n",
       "    .dataframe tbody tr th {\n",
       "        vertical-align: top;\n",
       "    }\n",
       "\n",
       "    .dataframe thead th {\n",
       "        text-align: right;\n",
       "    }\n",
       "</style>\n",
       "<table border=\"1\" class=\"dataframe\">\n",
       "  <thead>\n",
       "    <tr style=\"text-align: right;\">\n",
       "      <th></th>\n",
       "      <th>dem-men</th>\n",
       "      <th>dem-women</th>\n",
       "      <th>rep-men</th>\n",
       "      <th>rep-women</th>\n",
       "      <th>y</th>\n",
       "      <th>y_var</th>\n",
       "    </tr>\n",
       "  </thead>\n",
       "  <tbody>\n",
       "    <tr>\n",
       "      <th>pg61</th>\n",
       "      <td>0.92</td>\n",
       "      <td>0.94</td>\n",
       "      <td>0.49</td>\n",
       "      <td>0.65</td>\n",
       "      <td>0.6990</td>\n",
       "      <td>0.0458</td>\n",
       "    </tr>\n",
       "    <tr>\n",
       "      <th>pg62</th>\n",
       "      <td>0.87</td>\n",
       "      <td>0.92</td>\n",
       "      <td>0.50</td>\n",
       "      <td>0.67</td>\n",
       "      <td>0.5742</td>\n",
       "      <td>0.0800</td>\n",
       "    </tr>\n",
       "    <tr>\n",
       "      <th>pg63</th>\n",
       "      <td>0.87</td>\n",
       "      <td>0.84</td>\n",
       "      <td>0.32</td>\n",
       "      <td>0.49</td>\n",
       "      <td>0.5468</td>\n",
       "      <td>0.0859</td>\n",
       "    </tr>\n",
       "    <tr>\n",
       "      <th>pg64</th>\n",
       "      <td>0.82</td>\n",
       "      <td>0.89</td>\n",
       "      <td>0.24</td>\n",
       "      <td>0.52</td>\n",
       "      <td>0.5699</td>\n",
       "      <td>0.0611</td>\n",
       "    </tr>\n",
       "    <tr>\n",
       "      <th>pg65</th>\n",
       "      <td>0.67</td>\n",
       "      <td>0.71</td>\n",
       "      <td>0.17</td>\n",
       "      <td>0.29</td>\n",
       "      <td>0.6532</td>\n",
       "      <td>0.1106</td>\n",
       "    </tr>\n",
       "    <tr>\n",
       "      <th>pg66</th>\n",
       "      <td>0.82</td>\n",
       "      <td>0.87</td>\n",
       "      <td>0.34</td>\n",
       "      <td>0.42</td>\n",
       "      <td>0.6461</td>\n",
       "      <td>0.0267</td>\n",
       "    </tr>\n",
       "    <tr>\n",
       "      <th>sept_2019</th>\n",
       "      <td>0.86</td>\n",
       "      <td>0.92</td>\n",
       "      <td>0.20</td>\n",
       "      <td>0.26</td>\n",
       "      <td>0.4930</td>\n",
       "      <td>0.0360</td>\n",
       "    </tr>\n",
       "    <tr>\n",
       "      <th>feb_2020</th>\n",
       "      <td>0.83</td>\n",
       "      <td>0.89</td>\n",
       "      <td>0.28</td>\n",
       "      <td>0.25</td>\n",
       "      <td>0.4274</td>\n",
       "      <td>0.0736</td>\n",
       "    </tr>\n",
       "  </tbody>\n",
       "</table>\n",
       "</div>"
      ],
      "text/plain": [
       "           dem-men  dem-women  rep-men  rep-women       y   y_var\n",
       "pg61          0.92       0.94     0.49       0.65  0.6990  0.0458\n",
       "pg62          0.87       0.92     0.50       0.67  0.5742  0.0800\n",
       "pg63          0.87       0.84     0.32       0.49  0.5468  0.0859\n",
       "pg64          0.82       0.89     0.24       0.52  0.5699  0.0611\n",
       "pg65          0.67       0.71     0.17       0.29  0.6532  0.1106\n",
       "pg66          0.82       0.87     0.34       0.42  0.6461  0.0267\n",
       "sept_2019     0.86       0.92     0.20       0.26  0.4930  0.0360\n",
       "feb_2020      0.83       0.89     0.28       0.25  0.4274  0.0736"
      ]
     },
     "execution_count": 14,
     "metadata": {},
     "output_type": "execute_result"
    }
   ],
   "source": [
    "tw_df"
   ]
  },
  {
   "cell_type": "markdown",
   "metadata": {},
   "source": [
    "- `pvar` - sets the impact of the prior for the `p()` distribution. Lower value means that the impact of the prior will be low."
   ]
  },
  {
   "cell_type": "code",
   "execution_count": 15,
   "metadata": {},
   "outputs": [],
   "source": [
    "tw_qvar,tw_pvar = 5,2"
   ]
  },
  {
   "cell_type": "code",
   "execution_count": 16,
   "metadata": {},
   "outputs": [],
   "source": [
    "tw_prior_sm_dem_dist = np.array([1/len(tw_alphacols)]*len(tw_alphacols))"
   ]
  },
  {
   "cell_type": "code",
   "execution_count": 18,
   "metadata": {},
   "outputs": [],
   "source": [
    "# this is set based on domain knowledge (distributions from Pew, etc.)\n",
    "pprior = np.array([0.312,0.312,0.188,0.188])"
   ]
  },
  {
   "cell_type": "code",
   "execution_count": 23,
   "metadata": {},
   "outputs": [],
   "source": [
    "res_post = []\n",
    "res_post_var = []\n",
    "for i in range(100):\n",
    "    tw_w,tw_var,tw_post_w,tw_post_var = runInfExptFixed(tw_df,\n",
    "                                                        tw_prior_sm_dem_dist,tw_qvar,tw_pvar,tw_alphacols,\n",
    "                                                        pprior=pprior)\n",
    "    res_post.append(tw_post_w)\n",
    "    res_post_var.append(tw_post_var)"
   ]
  },
  {
   "cell_type": "code",
   "execution_count": 24,
   "metadata": {},
   "outputs": [
    {
     "data": {
      "text/plain": [
       "array([ 0.358618  ,  0.21547411, -0.40694113,  0.48235448])"
      ]
     },
     "execution_count": 24,
     "metadata": {},
     "output_type": "execute_result"
    }
   ],
   "source": [
    "# least square estimates\n",
    "tw_w"
   ]
  },
  {
   "cell_type": "code",
   "execution_count": 25,
   "metadata": {},
   "outputs": [],
   "source": [
    "def plotPart(ax,ylevels,pre,post,yticklabels,ylims,offspine):\n",
    "    ax.scatter(post,ylevels,c='black',s=200)\n",
    "    ax.scatter(pre,ylevels,c='cornflowerblue',s=200)\n",
    "    #ax.legend(['Twitter (Guns)','Twitter (All)'],loc='upper left',ncol=2)\n",
    "\n",
    "\n",
    "    for i in range(len(ylevels)):\n",
    "        ax.plot([pre[i],post[i]],[ylevels[i],ylevels[i]],c='gray',alpha=0.3,linewidth=16)\n",
    "        if (post[i] < pre[i]):\n",
    "            xytext = (8,0)\n",
    "            ha = 'left'\n",
    "            xytext1 = (-8,0)\n",
    "            ha1 = 'right'\n",
    "        else:\n",
    "            xytext = (-8,0)\n",
    "            ha = 'right'\n",
    "            xytext1 = (8,0)\n",
    "            ha1 = 'left'\n",
    "        ax.annotate('{:.2f}'.format(pre[i]),\n",
    "                           xy=(pre[i],ylevels[i]),\n",
    "                           xytext=xytext,\n",
    "                           textcoords=\"offset points\",color='cornflowerblue',\n",
    "                           ha=ha, va='center',size=24)\n",
    "        ax.annotate('{:.2f}'.format(post[i]),\n",
    "                       xy=(post[i],ylevels[i]),\n",
    "                       xytext=xytext1,\n",
    "                       textcoords=\"offset points\",color='black',\n",
    "                       ha=ha1, va='center',size=24)\n",
    "\n",
    "\n",
    "    ax.set_yticks(ylevels)\n",
    "    ax.set_yticklabels(yticklabels)\n",
    "    ax.set_xlim([-0.05,0.7])\n",
    "    ax.set_ylim(ylims)\n",
    "    ax.set_xticks([])\n",
    "    ax.grid(b=None)\n",
    "    ax.spines[offspine].set_visible(False)"
   ]
  },
  {
   "cell_type": "code",
   "execution_count": 29,
   "metadata": {},
   "outputs": [
    {
     "data": {
      "text/plain": [
       "<Figure size 432x288 with 0 Axes>"
      ]
     },
     "metadata": {},
     "output_type": "display_data"
    },
    {
     "data": {
      "image/png": "[encoded data removed]",
      "text/plain": [
       "<Figure size 864x432 with 2 Axes>"
      ]
     },
     "metadata": {},
     "output_type": "display_data"
    }
   ],
   "source": [
    "fig = plt.figure()\n",
    "ax = plt.subplots(2,1,figsize=(12,6))\n",
    "\n",
    "ylevels = np.array([1,2])\n",
    "post=np.array([0.57,0.43])\n",
    "pre=np.array([0.35,0.60])\n",
    "plotPart(ax[1][0],ylevels,pre,post,['Republican','Democrat'],[0,3.5],'bottom')\n",
    "\n",
    "ylevels = np.array([2,3])\n",
    "post=np.array([0.544,0.456])\n",
    "pre=np.array([0.50,0.50])\n",
    "plotPart(ax[1][1],ylevels,pre,post,['Men','Women'],[0.5,3.5],'top')\n",
    "\n",
    "ax[1][1].annotate('Twitter Users (All)', xy =(.5, 1.85),\n",
    "                xytext =(.3, 1), size=20,ha='center',va='center',color='cornflowerblue',\n",
    "                arrowprops = dict(facecolor ='cornflowerblue',lw=3),\n",
    "                 )\n",
    "ax[1][1].annotate('Twitter Users (Guns)', xy =(.545, 1.9),\n",
    "                xytext =(.545, 1), size=20,color='black',ha='center',va='center',\n",
    "                arrowprops = dict(facecolor ='black',lw=3,shrink = 0.05)\n",
    "                 )\n",
    "\n",
    "\n",
    "plt.subplots_adjust(wspace=None, hspace=None)\n",
    "plt.tight_layout()\n"
   ]
  }
 ],
 "metadata": {
  "kernelspec": {
   "display_name": "Python 3",
   "language": "python",
   "name": "python3"
  },
  "language_info": {
   "codemirror_mode": {
    "name": "ipython",
    "version": 3
   },
   "file_extension": ".py",
   "mimetype": "text/x-python",
   "name": "python",
   "nbconvert_exporter": "python",
   "pygments_lexer": "ipython3",
   "version": "3.7.10"
  }
 },
 "nbformat": 4,
 "nbformat_minor": 2
}
